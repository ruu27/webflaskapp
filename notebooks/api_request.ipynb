{
 "cells": [
  {
   "cell_type": "markdown",
   "metadata": {},
   "source": [
    "# AI300 Flask Capstone - API Query request\n",
    "Author: Ng Ru Ying"
   ]
  },
  {
   "cell_type": "code",
   "execution_count": null,
   "metadata": {},
   "outputs": [
    {
     "data": {
      "text/plain": [
       "<Response [200]>"
      ]
     },
     "execution_count": 1,
     "metadata": {},
     "output_type": "execute_result"
    }
   ],
   "source": [
    "# Input website\n",
    "WEBSITE = 'http://ec2-13-215-202-61.ap-southeast-1.compute.amazonaws.com'\n",
    "# WEBSITE = 'http://localhost:5000'\n",
    "\n",
    "import requests\n",
    "# Check if website is accessible \n",
    "requests.get(WEBSITE)"
   ]
  },
  {
   "cell_type": "markdown",
   "metadata": {},
   "source": [
    "## 1. Data"
   ]
  },
  {
   "cell_type": "code",
   "execution_count": 2,
   "metadata": {},
   "outputs": [],
   "source": [
    "data_0 = {\n",
    "'contract_type': 2,\n",
    "'internet_type': 0,\n",
    "'payment_method': 1,\n",
    "'num_referrals': 9,\n",
    "'num_dependents': 2,\n",
    "'tenure_months': 71,\n",
    "'total_monthly_fee': 19.8,\n",
    "'paperless_billing': 0,\n",
    "'age': 52\n",
    "}\n",
    "\n",
    "data_1 = {'contract_type': 0,\n",
    " 'internet_type': 1,\n",
    " 'payment_method': 0,\n",
    " 'num_referrals': 0,\n",
    " 'num_dependents': 0,\n",
    " 'tenure_months': 51,\n",
    " 'total_monthly_fee': 97.8,\n",
    " 'paperless_billing': 1,\n",
    " 'age': 70}\n",
    "\n",
    "records = [data_0, data_1]"
   ]
  },
  {
   "cell_type": "markdown",
   "metadata": {},
   "source": [
    "# 2. Predict"
   ]
  },
  {
   "cell_type": "code",
   "execution_count": 3,
   "metadata": {},
   "outputs": [
    {
     "name": "stdout",
     "output_type": "stream",
     "text": [
      " No, customer will not churn \n",
      "                \n",
      "                    \n"
     ]
    }
   ],
   "source": [
    "# Check prediction when input as data on normal website\n",
    "response = requests.post(WEBSITE, data=data_0)\n",
    "print(response.text.split('Model Prediction:')[1].split('&')[0])"
   ]
  },
  {
   "cell_type": "code",
   "execution_count": 4,
   "metadata": {},
   "outputs": [
    {
     "name": "stdout",
     "output_type": "stream",
     "text": [
      "{\"prediction\":\"No, customer will not churn\"}\n",
      "\n",
      "{\"prediction\":\"Yes, customer will churn\"}\n",
      "\n"
     ]
    }
   ],
   "source": [
    "# Predict for both 0 and 1 samples\n",
    "\n",
    "# Use the json parameter to send data as JSON\n",
    "response = requests.post(WEBSITE + '/api/predict_one', json=data_0) \n",
    "# Print the response text\n",
    "print(response.text) \n",
    "\n",
    "# Use the json parameter to send data as JSON\n",
    "response = requests.post(WEBSITE + '/api/predict_one', json=data_1) \n",
    "# Print the response text\n",
    "print(response.text) \n"
   ]
  },
  {
   "cell_type": "markdown",
   "metadata": {},
   "source": [
    "# 3. Predict multiple"
   ]
  },
  {
   "cell_type": "code",
   "execution_count": 5,
   "metadata": {},
   "outputs": [
    {
     "name": "stdout",
     "output_type": "stream",
     "text": [
      "<Response [200]>\n",
      "{\"predictions\":[\"No, customer will not churn\",\"Yes, customer will churn\"]}\n",
      "\n"
     ]
    }
   ],
   "source": [
    "import requests\n",
    "url = f'{WEBSITE}/api/predict'\n",
    "\n",
    "response = requests.post(url, json = records)\n",
    "print(response)             # 200 means OK, 400 means Bad Request\n",
    "print(response.text)#[:150])  # print first 150 characters of response"
   ]
  }
 ],
 "metadata": {
  "kernelspec": {
   "display_name": "Python 3",
   "language": "python",
   "name": "python3"
  },
  "language_info": {
   "codemirror_mode": {
    "name": "ipython",
    "version": 3
   },
   "file_extension": ".py",
   "mimetype": "text/x-python",
   "name": "python",
   "nbconvert_exporter": "python",
   "pygments_lexer": "ipython3",
   "version": "3.10.0"
  }
 },
 "nbformat": 4,
 "nbformat_minor": 2
}
